{
 "cells": [
  {
   "cell_type": "markdown",
   "metadata": {},
   "source": [
    "# Loading and Cleaning our Movie Data\n",
    "We'll download our list of movies, the movie's descriptions first from [TMDB](https://www.themoviedb.org/?language=en-US). Then do some cleaning of the data. Download [word2vec](https://en.wikipedia.org/wiki/Word2vec) and finally, do some feature engineering to tokenize the descriptions. \n",
    "\n",
    "We've split these into 6 seperate scripts and linked them all in one notebook for simplicity. \n",
    "\n"
   ]
  },
  {
   "cell_type": "markdown",
   "metadata": {},
   "source": [
    "### Downloading the list of Movies"
   ]
  },
  {
   "cell_type": "code",
   "execution_count": null,
   "metadata": {},
   "outputs": [
    {
     "name": "stdout",
     "output_type": "stream",
     "text": [
      "Pulling movie list of popular movies, Please wait...\n",
      "\tWhile you wait, here are some sampling of the movies that are being pulled...\n",
      "\t\tAshfall\n",
      "\t\tLegionnaire's Trail\n",
      "\t\tNaruto Shippuden the Movie\n",
      "\t\tTerminator: Dark Fate\n",
      "\t\tThe Courier\n",
      "\t\tBaba Yaga: Terror of the Dark Forest\n",
      "\t\tGoblin Slayer: Goblin's Crown\n",
      "\t\tOver the Moon\n",
      "\t\tSpider-Man: Homecoming\n",
      "\t10/51 done\n",
      "\t******* Waiting a few seconds to stay within rate limits of TMDB... *******)\n",
      "\t\tAntebellum\n",
      "\t\tShrek\n",
      "\t\tDanger Close\n",
      "\t\tVivarium\n",
      "\t\tLogan\n",
      "\t\tThe Right One\n",
      "\t\tAttack on Titan\n",
      "\t\tThe Driver\n",
      "\t\tTeenage Mutant Ninja Turtles\n",
      "\t\tKingsman: The Secret Service\n",
      "\t20/51 done\n",
      "\t******* Waiting a few seconds to stay within rate limits of TMDB... *******)\n",
      "\t\tLa sabiduría\n",
      "\t\tBetter Days\n",
      "\t\tKing Kong\n",
      "\t\tBatman v Superman: Dawn of Justice\n",
      "\t\tIncredibles 2\n",
      "\t\tThe Equalizer 2\n",
      "\t\tOvercomer\n",
      "\t\tThe Half of It\n",
      "\t\tBig Time Adolescence\n",
      "\t\tGolden Job\n",
      "\t30/51 done\n",
      "\t******* Waiting a few seconds to stay within rate limits of TMDB... *******)\n",
      "\t\tThe Amazing Spider-Man 2\n",
      "\t\tFifty Shades of Black\n",
      "\t\tOne Piece Film: GOLD\n",
      "\t\tViking Blood\n",
      "\t\tThe Call of the Wild\n",
      "\t\tUp\n",
      "\t\tTriple Frontier\n",
      "\t\tI Love You, Stupid\n",
      "\t\tLong Live Rock... Celebrate the Chaos\n",
      "\t\tGuns Akimbo\n",
      "\t40/51 done\n",
      "\t******* Waiting a few seconds to stay within rate limits of TMDB... *******)\n",
      "\t\tWitching & Bitching\n",
      "\t\tGhost in the Shell\n",
      "\t\tGodzilla\n",
      "\t\tThe Wandering Earth\n",
      "\t\tDoraemon: Nobita and the Winged Braves\n",
      "\t\tHowl's Moving Castle\n",
      "\t\tThe Commuter\n",
      "\t\tL.O.R.D: Legend of Ravaging Dynasties\n",
      "\t\tNever Back Down: No Surrender\n",
      "\t\tDiscarnate\n",
      "\t50/51 done\n",
      "\t******* Waiting a few seconds to stay within rate limits of TMDB... *******)\n",
      "\t\tFuture World\n",
      "Done! Pulled a list of the top 1000 movies.\n",
      "\n",
      "\n",
      "Extracting the genre ids associated with the movies....\n",
      "Done! We have identified 19 genres in the top 1000 most popular movies.\n",
      "\n",
      "\n",
      "Starting pulling movies from TMDB from each genre. This will take a while, please wait...\n",
      "\tPulling movies for genre ID 10752. Here are sample of movies in the genre: \n",
      "\t\tMy Mother's Wound\n",
      "\t\tYoung Men\n",
      "\t\tMy War\n",
      "\tPulling movies for genre ID 10402. Here are sample of movies in the genre: \n",
      "\t\tYallah! Underground\n",
      "\t\tMavis!\n",
      "\t\tBeyoncé: Live At Global Citizen Festival 2015\n",
      "\tPulling movies for genre ID 35. Here are sample of movies in the genre: \n",
      "\t\tA Cinderella Story: Once Upon a Song\n",
      "\t\tSome Like It Hot\n",
      "\t\tMaid in Manhattan\n",
      "\tPulling movies for genre ID 36. Here are sample of movies in the genre: \n",
      "\t\tThe Butterfly's Dream\n",
      "\t\tRommel\n",
      "\t\tTales from the Royal Bedchamber\n",
      "\tPulling movies for genre ID 99. Here are sample of movies in the genre: \n",
      "\t\tAmish: A Secret Life\n",
      "\t\tIndie Game: The Movie\n",
      "\t\tOne Direction: The Only Way Is Up\n",
      "\tPulling movies for genre ID 37. Here are sample of movies in the genre: \n",
      "\t\tAbbiamo ancora tempo.\n",
      "\t\tMattie\n",
      "\t\tPólvora Negra\n",
      "\tPulling movies for genre ID 12. Here are sample of movies in the genre: \n",
      "\t\tFirebreather\n",
      "\t\tBack to the Future Part II\n",
      "\t\t13 Assassins\n",
      "\tPulling movies for genre ID 14. Here are sample of movies in the genre: \n",
      "\t\tIn the Name of the King: A Dungeon Siege Tale\n",
      "\t\tDr. Dolittle 3\n",
      "\t\tThe Ghost of Lord Farquaad\n",
      "\tPulling movies for genre ID 878. Here are sample of movies in the genre: \n",
      "\t\tDoctor Who: The Next Doctor\n",
      "\t\tÆon Flux\n",
      "\t\tSuperhero Movie\n",
      "\tPulling movies for genre ID 16. Here are sample of movies in the genre: \n",
      "\t\tA Scanner Darkly\n",
      "\t\tThe Land Before Time XIII: The Wisdom of Friends\n",
      "\t\tHappily N'Ever After\n",
      "\tPulling movies for genre ID 80. Here are sample of movies in the genre: \n",
      "\t\tInto the Blue\n",
      "\t\tThe Man Who Wasn't There\n",
      "\t\tDouble Indemnity\n",
      "\tPulling movies for genre ID 18. Here are sample of movies in the genre: \n",
      "\t\tScars\n",
      "\t\tCinderella Man\n",
      "\t\tMenace II Society\n",
      "\tPulling movies for genre ID 9648. Here are sample of movies in the genre: \n"
     ]
    }
   ],
   "source": [
    "run src/data/movie_list.py  "
   ]
  },
  {
   "cell_type": "markdown",
   "metadata": {},
   "source": [
    "### Downloading the Movie's descriptions"
   ]
  },
  {
   "cell_type": "code",
   "execution_count": null,
   "metadata": {},
   "outputs": [],
   "source": [
    "run src/data/overviews.py"
   ]
  },
  {
   "cell_type": "markdown",
   "metadata": {},
   "source": [
    "### Cleaning and de-duping the data"
   ]
  },
  {
   "cell_type": "code",
   "execution_count": null,
   "metadata": {},
   "outputs": [],
   "source": [
    "run src/data/cleaning_data.py"
   ]
  },
  {
   "cell_type": "markdown",
   "metadata": {},
   "source": [
    "### Featuring engineering"
   ]
  },
  {
   "cell_type": "code",
   "execution_count": null,
   "metadata": {},
   "outputs": [],
   "source": [
    "run src/features/feature_eng.py"
   ]
  },
  {
   "cell_type": "markdown",
   "metadata": {},
   "source": [
    "### Downloading [Word2Vec](https://en.wikipedia.org/wiki/Word2vec)"
   ]
  },
  {
   "cell_type": "code",
   "execution_count": 7,
   "metadata": {},
   "outputs": [
    {
     "name": "stdout",
     "output_type": "stream",
     "text": [
      "Downloading the SLIMMED word2vec model...\n",
      "--2021-03-11 18:26:31--  https://github.com/eyaler/word2vec-slim/raw/master/GoogleNews-vectors-negative300-SLIM.bin.gz\n",
      "Resolving github.com (github.com)... 192.30.255.112\n",
      "Connecting to github.com (github.com)|192.30.255.112|:443... connected.\n",
      "HTTP request sent, awaiting response... 302 Found\n",
      "Location: https://media.githubusercontent.com/media/eyaler/word2vec-slim/master/GoogleNews-vectors-negative300-SLIM.bin.gz [following]\n",
      "--2021-03-11 18:26:31--  https://media.githubusercontent.com/media/eyaler/word2vec-slim/master/GoogleNews-vectors-negative300-SLIM.bin.gz\n",
      "Resolving media.githubusercontent.com (media.githubusercontent.com)... 185.199.108.133, 185.199.110.133, 185.199.109.133, ...\n",
      "Connecting to media.githubusercontent.com (media.githubusercontent.com)|185.199.108.133|:443... connected.\n",
      "HTTP request sent, awaiting response... 200 OK\n",
      "Length: 276467217 (264M) [application/octet-stream]\n",
      "Saving to: ‘GoogleNews-vectors-negative300-SLIM.bin.gz’\n",
      "\n",
      "GoogleNews-vectors- 100%[===================>] 263.66M   189MB/s    in 1.4s    \n",
      "\n",
      "2021-03-11 18:26:39 (189 MB/s) - ‘GoogleNews-vectors-negative300-SLIM.bin.gz’ saved [276467217/276467217]\n",
      "\n",
      "Decompressing the model...\n",
      "GoogleNews-vectors-negative300-SLIM.bin.gz:\t 23.6% -- replaced with GoogleNews-vectors-negative300-SLIM.bin\n",
      "Decompressed. Moving...\n",
      "Move completed.\n"
     ]
    }
   ],
   "source": [
    "!sh src/models/get_word2vec.sh"
   ]
  },
  {
   "cell_type": "markdown",
   "metadata": {},
   "source": [
    "### Feature engineering using [Word2Vec](https://en.wikipedia.org/wiki/Word2vec)"
   ]
  },
  {
   "cell_type": "code",
   "execution_count": 8,
   "metadata": {},
   "outputs": [
    {
     "name": "stdout",
     "output_type": "stream",
     "text": [
      "Loaded the list of de-duped movies with overviews from data/interim/movies_with_overviews.pkl.\n",
      "Loaded the GoogleNews Slimmed Word2Vec model.\n",
      "Tokenized all overviews.\n",
      "Removed stopwords.\n",
      "Calculated the mean word2vec vector for each overview.\n",
      "Created a multi-label binarizer for genres.\n",
      "Transformed the target variable for each movie using the multi-label binarizer to an array or arrays.\n",
      "\tFor a movie with genre ids [36, 53, 10752], we create Y for the movie as [0, 0, 0, 0, 0, 0, 0, 1, 0, 1, 0, 0, 0, 0, 0, 0, 0, 1, 0].\n",
      "Saved the mean word2vec vector for each overview (X) and the binarized target (Y) as textual_features=(X,Y) into data/processed/textual_features.pkl.\n",
      "Saved the multi-label binarizer so we can do the inverse transform later as models/mlb.pkl.\n"
     ]
    }
   ],
   "source": [
    "run src/features/word2vec_features.py"
   ]
  },
  {
   "cell_type": "code",
   "execution_count": null,
   "metadata": {},
   "outputs": [],
   "source": []
  },
  {
   "cell_type": "code",
   "execution_count": null,
   "metadata": {},
   "outputs": [],
   "source": []
  }
 ],
 "metadata": {
  "kernelspec": {
   "display_name": "Python 3",
   "language": "python",
   "name": "python3"
  },
  "language_info": {
   "codemirror_mode": {
    "name": "ipython",
    "version": 3
   },
   "file_extension": ".py",
   "mimetype": "text/x-python",
   "name": "python",
   "nbconvert_exporter": "python",
   "pygments_lexer": "ipython3",
   "version": "3.6.8"
  }
 },
 "nbformat": 4,
 "nbformat_minor": 2
}
