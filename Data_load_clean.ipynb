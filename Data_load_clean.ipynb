{
 "cells": [
  {
   "cell_type": "markdown",
   "metadata": {},
   "source": [
    "# Loading and Cleaning our Movie Data\n",
    "We'll download our list of movies, the movie's descriptions first from [TMDB](https://www.themoviedb.org/?language=en-US). Then do some cleaning of the data. Download [word2vec](https://en.wikipedia.org/wiki/Word2vec) and finally, do some feature engineering to tokenize the descriptions. \n",
    "\n",
    "We've split these into 6 seperate scripts and linked them all in one notebook for simplicity. \n",
    "\n"
   ]
  },
  {
   "cell_type": "markdown",
   "metadata": {},
   "source": [
    "### Downloading the list of Movies"
   ]
  },
  {
   "cell_type": "code",
   "execution_count": null,
   "metadata": {},
   "outputs": [
    {
     "name": "stdout",
     "output_type": "stream",
     "text": [
      "Pulling movie list of popular movies, Please wait...\n",
      "\tWhile you wait, here are some sampling of the movies that are being pulled...\n",
      "\t\tAshfall\n",
      "\t\tLegionnaire's Trail\n",
      "\t\tXico's Journey\n",
      "\t\tAfter We Collided\n",
      "\t\tJohn Wick: Chapter 3 - Parabellum\n",
      "\t\tThe Unfamiliar\n",
      "\t\tRampage\n",
      "\t\tDrive\n",
      "\t\tIt Chapter Two\n",
      "\t10/51 done\n",
      "\t******* Waiting a few seconds to stay within rate limits of TMDB... *******)\n",
      "\t\tHarry Potter and the Chamber of Secrets\n",
      "\t\tCoco\n",
      "\t\tThe Lion King\n",
      "\t\tDragon Ball Z: Broly – Second Coming\n",
      "\t\tA Babysitter's Guide to Monster Hunting\n",
      "\t\tKingsman: The Secret Service\n",
      "\t\tThe Twilight Saga: Breaking Dawn - Part 2\n",
      "\t\tBetween Worlds\n",
      "\t\tJustice League: Doom\n",
      "\t\tAlpha\n",
      "\t20/51 done\n",
      "\t******* Waiting a few seconds to stay within rate limits of TMDB... *******)\n",
      "\t\tThe Scorpion King: Book of Souls\n",
      "\t\tTrolls World Tour\n",
      "\t\tIncredibles 2\n",
      "\t\tRevenger\n",
      "\t\tAmerican Pie\n",
      "\t\tThe Dark Knight\n",
      "\t\tGreen Lantern: Emerald Knights\n",
      "\t\tSnow White and the Seven Dwarfs\n",
      "\t\tPirates of the Caribbean: On Stranger Tides\n",
      "\t\tBeverly Hills Chihuahua\n",
      "\t30/51 done\n",
      "\t******* Waiting a few seconds to stay within rate limits of TMDB... *******)\n",
      "\t\tAd Astra\n",
      "\t\tMaze Runner: The Scorch Trials\n",
      "\t\tTaken 3\n",
      "\t\tTokyo Ghoul 'S'\n",
      "\t\tPirates of the Caribbean: At World's End\n",
      "\t\tDinosaur\n",
      "\t\tConstantine\n",
      "\t\tAnnabelle Comes Home\n",
      "\t\tJustice League Dark: Apokolips War\n",
      "\t\tNomadland\n",
      "\t40/51 done\n",
      "\t******* Waiting a few seconds to stay within rate limits of TMDB... *******)\n",
      "\t\tCaptain America: The Winter Soldier\n",
      "\t\tIt\n",
      "\t\tBrave\n",
      "\t\tBraven\n",
      "\t\tThe Matrix\n",
      "\t\tPocahontas\n",
      "\t\tAlvin and the Chipmunks: Chipwrecked\n",
      "\t\tGod's Not Dead: A Light in Darkness\n",
      "\t\tCult of Chucky\n",
      "\t\tWilly Wonka & the Chocolate Factory\n",
      "\t50/51 done\n",
      "\t******* Waiting a few seconds to stay within rate limits of TMDB... *******)\n",
      "\t\tIce Age: Continental Drift\n",
      "Done! Pulled a list of the top 1000 movies.\n",
      "\n",
      "\n",
      "Extracting the genre ids associated with the movies....\n",
      "Done! We have identified 19 genres in the top 1000 most popular movies.\n",
      "\n",
      "\n",
      "Starting pulling movies from TMDB from each genre. This will take a while, please wait...\n",
      "\tPulling movies for genre ID 10752. Here are sample of movies in the genre: \n",
      "\t\tBurnt by the Sun 2: Exodus\n",
      "\t\tMobile Suit Gundam Thunderbolt: December Sky\n",
      "\t\tCaptured\n",
      "\tPulling movies for genre ID 10402. Here are sample of movies in the genre: \n",
      "\t\tAustin to Boston\n",
      "\t\tBuilt to Spill: Live in Atlanta\n",
      "\t\tTheresa Is a Mother\n",
      "\tPulling movies for genre ID 35. Here are sample of movies in the genre: \n",
      "\t\tCooties\n",
      "\t\tThe Dictator\n",
      "\t\tDon Jon\n",
      "\tPulling movies for genre ID 36. Here are sample of movies in the genre: \n",
      "\t\tMary, Queen of Scots\n",
      "\t\tAmerican Experience: JFK\n",
      "\t\tThe Price of Sugar\n",
      "\tPulling movies for genre ID 99. Here are sample of movies in the genre: \n",
      "\t\tEarth: The Power of the Planet\n",
      "\t\tShut Up and Play the Hits\n",
      "\t\tJason Becker: Not Dead Yet\n",
      "\tPulling movies for genre ID 37. Here are sample of movies in the genre: \n",
      "\t\tMontana Trap\n",
      "\t\tWesternStory\n",
      "\t\tPólvora Negra\n",
      "\tPulling movies for genre ID 12. Here are sample of movies in the genre: \n",
      "\t\tBack to the Future Part II\n",
      "\t\tTremors\n",
      "\t\tBean\n",
      "\tPulling movies for genre ID 14. Here are sample of movies in the genre: \n"
     ]
    }
   ],
   "source": [
    "run src/data/movie_list.py  "
   ]
  },
  {
   "cell_type": "markdown",
   "metadata": {},
   "source": [
    "### Downloading the Movie's descriptions"
   ]
  },
  {
   "cell_type": "code",
   "execution_count": null,
   "metadata": {},
   "outputs": [],
   "source": [
    "run src/data/overviews.py"
   ]
  },
  {
   "cell_type": "markdown",
   "metadata": {},
   "source": [
    "### Cleaning and de-duping the data"
   ]
  },
  {
   "cell_type": "code",
   "execution_count": null,
   "metadata": {},
   "outputs": [],
   "source": [
    "run src/data/cleaning_data.py"
   ]
  },
  {
   "cell_type": "markdown",
   "metadata": {},
   "source": [
    "### Featuring engineering"
   ]
  },
  {
   "cell_type": "code",
   "execution_count": null,
   "metadata": {},
   "outputs": [],
   "source": [
    "run src/features/feature_eng.py"
   ]
  },
  {
   "cell_type": "markdown",
   "metadata": {},
   "source": [
    "### Downloading [Word2Vec](https://en.wikipedia.org/wiki/Word2vec)"
   ]
  },
  {
   "cell_type": "code",
   "execution_count": null,
   "metadata": {},
   "outputs": [],
   "source": [
    "!sh src/models/get_word2vec.sh"
   ]
  },
  {
   "cell_type": "markdown",
   "metadata": {},
   "source": [
    "### Feature engineering using [Word2Vec](https://en.wikipedia.org/wiki/Word2vec)"
   ]
  },
  {
   "cell_type": "code",
   "execution_count": null,
   "metadata": {},
   "outputs": [],
   "source": [
    "run src/features/word2vec_features.py"
   ]
  },
  {
   "cell_type": "code",
   "execution_count": null,
   "metadata": {},
   "outputs": [],
   "source": []
  }
 ],
 "metadata": {
  "kernelspec": {
   "display_name": "Python 3",
   "language": "python",
   "name": "python3"
  },
  "language_info": {
   "codemirror_mode": {
    "name": "ipython",
    "version": 3
   },
   "file_extension": ".py",
   "mimetype": "text/x-python",
   "name": "python",
   "nbconvert_exporter": "python",
   "pygments_lexer": "ipython3",
   "version": "3.6.8"
  }
 },
 "nbformat": 4,
 "nbformat_minor": 2
}
