{
 "cells": [
  {
   "cell_type": "code",
   "execution_count": 1,
   "metadata": {},
   "outputs": [
    {
     "name": "stderr",
     "output_type": "stream",
     "text": [
      "INFO:domino.domino:Fallback: Initializing python-domino with basic auth\n",
      "INFO:domino.domino:Domino deployment http://frontend-nucleus.dazndo261624-platform:80 is running version 4.4.0\n"
     ]
    },
    {
     "name": "stdout",
     "output_type": "stream",
     "text": [
      "[{'id': '6079804ecc390c13e5ad252b', 'projectId': '60797efd3a59b03d8034d4d4', 'number': 2, 'startingUserId': '605af9185e0b56bb2613cd4b', 'queued': 1618575438249, 'started': 1618575476165, 'completed': None, 'status': 'Running', 'commitId': 'b4e8be82859705dfa3174b3bc475c2299a90a0cf', 'startingScheduledRunId': None, 'outputCommitId': None, 'title': \"bryandomino's\\n      vscode session\", 'publiclyVisible': False, 'isArchived': False, 'postProcessedTimestamp': None, 'diagnosticStatistics': None, 'isCompleted': False, 'hardwareTierId': 'small-k8s', 'environmentId': '605afdb5cf2196757eeaa727', 'environmentRevisionId': '6078a8339e3df562f282f86b', 'repositories': [{'id': '60797efc3a59b03d8034d4d3', 'name': 'MovieGenrePrediction', 'ref': '(Default branch)', 'serviceProvider': 'github', 'startingCommitId': 'ab6032d2dbbfd05c11538bb91d8085185cca6bb3', 'finishedCommitId': '-', 'uri': 'https://github.com/BryanDomino/MovieGenrePrediction.git', 'startingBranch': 'master', 'finishedBranch': '-'}], 'notebookName': 'vscode', 'runQueueingInformation': None, 'datasetMounts': [{'containerPath': '/mnt/data/scratch', 'isReadOnly': False, 'resourceId': 'dataset-scratch-space-60797efd3a59b03d8034d4d4-605af9185e0b56bb2613cd4b', 'resourcePath': 'dataset-scratch-space-60797efd3a59b03d8034d4d4-605af9185e0b56bb2613cd4b'}], 'containerExitCode': None, 'autoSyncSettings': None}, {'id': '60797f453a59b03d8034d4d9', 'projectId': '60797efd3a59b03d8034d4d4', 'number': 1, 'startingUserId': '605af9185e0b56bb2613cd4b', 'queued': 1618575173897, 'started': 1618575213542, 'completed': None, 'status': 'Running', 'commitId': 'b4e8be82859705dfa3174b3bc475c2299a90a0cf', 'startingScheduledRunId': None, 'outputCommitId': None, 'title': \"bryandomino's\\n      JupyterLab session\", 'publiclyVisible': False, 'isArchived': False, 'postProcessedTimestamp': None, 'diagnosticStatistics': None, 'isCompleted': False, 'hardwareTierId': 'small-k8s', 'environmentId': '605afdb5cf2196757eeaa727', 'environmentRevisionId': '6078a8339e3df562f282f86b', 'repositories': [{'id': '60797efc3a59b03d8034d4d3', 'name': 'MovieGenrePrediction', 'ref': '(Default branch)', 'serviceProvider': 'github', 'startingCommitId': 'ab6032d2dbbfd05c11538bb91d8085185cca6bb3', 'finishedCommitId': '-', 'uri': 'https://github.com/BryanDomino/MovieGenrePrediction.git', 'startingBranch': 'master', 'finishedBranch': '-'}], 'notebookName': 'JupyterLab', 'runQueueingInformation': None, 'datasetMounts': [{'containerPath': '/mnt/data/scratch', 'isReadOnly': False, 'resourceId': 'dataset-scratch-space-60797efd3a59b03d8034d4d4-605af9185e0b56bb2613cd4b', 'resourcePath': 'dataset-scratch-space-60797efd3a59b03d8034d4d4-605af9185e0b56bb2613cd4b'}], 'containerExitCode': None, 'autoSyncSettings': None}]\n"
     ]
    }
   ],
   "source": [
    "from domino import Domino\n",
    "\n",
    "# By and large your commands will run against a single project,\n",
    "# so you must specify the full project name\n",
    "domino = Domino(\"bryandomino/TestProj\")\n",
    "\n",
    "# List all runs in the project, most-recently queued first\n",
    "all_runs = domino.runs_list()['data']\n",
    "\n",
    "latest_100_runs = all_runs[0:100]\n",
    "\n",
    "print(latest_100_runs)"
   ]
  },
  {
   "cell_type": "code",
   "execution_count": null,
   "metadata": {},
   "outputs": [],
   "source": []
  }
 ],
 "metadata": {
  "kernelspec": {
   "display_name": "Python 3",
   "language": "python",
   "name": "python3"
  },
  "language_info": {
   "codemirror_mode": {
    "name": "ipython",
    "version": 3
   },
   "file_extension": ".py",
   "mimetype": "text/x-python",
   "name": "python",
   "nbconvert_exporter": "python",
   "pygments_lexer": "ipython3",
   "version": "3.8.5"
  }
 },
 "nbformat": 4,
 "nbformat_minor": 4
}
